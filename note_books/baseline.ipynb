{
 "cells": [
  {
   "cell_type": "markdown",
   "id": "59bcf013",
   "metadata": {},
   "source": [
    "# Baseline model"
   ]
  },
  {
   "cell_type": "markdown",
   "id": "af83402e",
   "metadata": {},
   "source": [
    "We will be using the \"trivial\" assuming everyone is positive as baseline model. This is decided due to context at hand: The companies is assuming everyone is likely to be a customer when starting the marketing campaign. \n",
    "\n",
    "The target is imbalanced, there are 7.24% positive. Using accuracy is kinda meaning less here, so we will be using f1 score as our KPI, we will also rely on roc auc, and average precision as well (when comparing between models other than against the trivial model). \n",
    "\n",
    "By construction, the f1 score of the baseline model is $\\frac{2*7.24}{2*7.24 + 92.76} \\approx 0.1350$. "
   ]
  }
 ],
 "metadata": {
  "language_info": {
   "name": "python"
  }
 },
 "nbformat": 4,
 "nbformat_minor": 5
}
