{
 "cells": [
  {
   "cell_type": "markdown",
   "id": "aa62330f",
   "metadata": {},
   "source": [
    "# Download raw data"
   ]
  },
  {
   "cell_type": "code",
   "execution_count": 1,
   "id": "6fe625e1",
   "metadata": {},
   "outputs": [],
   "source": [
    "import sys\n",
    "sys.path.append(\"../\")\n",
    "\n",
    "# This forces Jupyter Notebook to reload the module instead of using the cached import\n",
    "import importlib\n",
    "\n",
    "from proj_mod import data_collecting\n",
    "importlib.reload(data_collecting); #Adding \";\" to suppress output."
   ]
  },
  {
   "cell_type": "code",
   "execution_count": 2,
   "id": "55649420",
   "metadata": {},
   "outputs": [
    {
     "name": "stderr",
     "output_type": "stream",
     "text": [
      "Downloading...\n",
      "From: https://drive.google.com/uc?id=1EW-XMnGfxn-qzGtGPa3v_C63Yqj2aGf7\n",
      "To: /home/ycoeusz/git/apziva/2_Term_deposit_marketing/QclDQp5MOHN2Sk9K/data/raw.csv\n",
      "100%|██████████| 2.79M/2.79M [00:00<00:00, 7.89MB/s]"
     ]
    },
    {
     "name": "stdout",
     "output_type": "stream",
     "text": [
      "Raw data downloaded in 2.3839 seconds.\n"
     ]
    },
    {
     "name": "stderr",
     "output_type": "stream",
     "text": [
      "\n"
     ]
    },
    {
     "data": {
      "text/plain": [
       "0"
      ]
     },
     "execution_count": 2,
     "metadata": {},
     "output_type": "execute_result"
    }
   ],
   "source": [
    "id=\"1EW-XMnGfxn-qzGtGPa3v_C63Yqj2aGf7\"\n",
    "store_path=\"../data/raw.csv\"\n",
    "data_collecting.collect_data(id=id,store_path=store_path) "
   ]
  }
 ],
 "metadata": {
  "kernelspec": {
   "display_name": "deep_learning_3_11_8",
   "language": "python",
   "name": "python3"
  },
  "language_info": {
   "codemirror_mode": {
    "name": "ipython",
    "version": 3
   },
   "file_extension": ".py",
   "mimetype": "text/x-python",
   "name": "python",
   "nbconvert_exporter": "python",
   "pygments_lexer": "ipython3",
   "version": "3.11.8"
  }
 },
 "nbformat": 4,
 "nbformat_minor": 5
}
